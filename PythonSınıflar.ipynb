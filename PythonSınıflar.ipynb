{
 "cells": [
  {
   "cell_type": "markdown",
   "metadata": {},
   "source": [
    "<h1>Python ile Tasarım Desenleri</h1>"
   ]
  },
  {
   "cell_type": "markdown",
   "metadata": {},
   "source": [
    "<H2>GENEL SINIF YAPISI</H2>"
   ]
  },
  {
   "cell_type": "code",
   "execution_count": 26,
   "metadata": {},
   "outputs": [],
   "source": [
    "class Calisan:\n",
    "    calisanSayac = 0\n",
    "    \n",
    "    def __init__(self,isim,maas):\n",
    "        self.isim = isim\n",
    "        self.maas = maas\n",
    "        Calisan.calisanSayac += 1\n",
    "    \n",
    "    def toplamCalisan(self):\n",
    "        print(\"Calisan sayisi %d\" %Calisan.calisanSayac)\n",
    "    def bilgiCalisan(self):\n",
    "        print(\"Adı : \",self.isim,\", Maas : \",self.maas)"
   ]
  },
  {
   "cell_type": "markdown",
   "metadata": {},
   "source": [
    "Burada __init__ fonksiyonu yapıcı fonksiyondur. Başlangıçta daima çalıştırılır."
   ]
  },
  {
   "cell_type": "code",
   "execution_count": 7,
   "metadata": {},
   "outputs": [],
   "source": [
    "calisan1=Calisan(\"Enes\",3000)\n",
    "calisan2=Calisan(\"Ömer\",3200)"
   ]
  },
  {
   "cell_type": "markdown",
   "metadata": {},
   "source": [
    "Sınıfımızdan iki adet nesne oluşturduk."
   ]
  },
  {
   "cell_type": "code",
   "execution_count": 18,
   "metadata": {},
   "outputs": [
    {
     "name": "stdout",
     "output_type": "stream",
     "text": [
      "Adı :  Enes , Maas :  3000\n",
      "Adı :  Ömer , Maas :  3200\n",
      "Toplam Calışan sayısı : 2 \n"
     ]
    }
   ],
   "source": [
    "calisan1.bilgiCalisan()\n",
    "calisan2.bilgiCalisan()\n",
    "print(\"Toplam Calışan sayısı : %d \" %Calisan.calisanSayac)"
   ]
  },
  {
   "cell_type": "markdown",
   "metadata": {},
   "source": [
    "Oluşturduğumuz nesneleri sınıf içerisinde tanımladığımız değişken ve fonksiyonlar aracılığı ile çekmiş olduk."
   ]
  },
  {
   "cell_type": "markdown",
   "metadata": {},
   "source": [
    "<h5 style=\"color:red;\">Yerleşik Sınıf Özellikleri</h5>"
   ]
  },
  {
   "cell_type": "code",
   "execution_count": 25,
   "metadata": {},
   "outputs": [
    {
     "name": "stdout",
     "output_type": "stream",
     "text": [
      "Calişanın yaşı : 24\n",
      "Calişanın yaşı : 28\n",
      "28\n",
      "False\n",
      "True\n"
     ]
    }
   ],
   "source": [
    "calisan1.yas = 24 #Sınıfımıza yaş özelliğini tutan bir değişken ataması yaptık.\n",
    "print(\"Calişanın yaşı : %d\" %calisan1.yas)\n",
    "calisan1.yas = 28 #Eklemiş olduğumuz değişkeni güncelleyebilir.\n",
    "print(\"Calişanın yaşı : %d\" %calisan1.yas)\n",
    "print(getattr(calisan1, 'yas')) #İstenilen değişkeni getirir.\n",
    "del calisan1.yas #Değişken tamamen kaldırılabilir.\n",
    "#delattr(calisan1,'yas') #Silme işlemi için diğer bir yöntem.\n",
    "#print(\"Calişanın yaşı : %d\" %calisan1.yas)\n",
    "print(hasattr(calisan1, 'yas')) #Değişken olup olmadığını kontrol eder.\n",
    "setattr(calisan1, 'yas', 8) #Değişkene değer atanabilir.\n",
    "print(hasattr(calisan1, 'yas')) #Değişken olup olmadığını kontrol eder.\n"
   ]
  },
  {
   "cell_type": "markdown",
   "metadata": {},
   "source": [
    "<h2>Genel Kavramlar</h2>"
   ]
  },
  {
   "cell_type": "markdown",
   "metadata": {},
   "source": [
    "<h4>Encapsulation(Sarma)</h4>"
   ]
  },
  {
   "cell_type": "markdown",
   "metadata": {},
   "source": [
    "<p style='text-align: justify;'> \n",
    "Genel tanımıyla kullanıcı tarafından verilerin, sınıfların ve metotların ne kadarının görüntülenebileceği ve değiştirilebileceğinin sınırlarının konulmasını sağlar. Public (herkese açık), private (özel) ve protected (koruma altında) olmak üzere üç adet access modifier’dan (erişim dönüştürücüsü) bahsedilebilir. Public olanlar herkes tarafından görülebilir ve değiştirilebilir yani en güvensiz sınıf çeşididir. Bir program yazılırken programın iç yapısını değiştirecek metotların Public olması önerilmez. Public modifier dış kullanıcı tarafından eklenmesi veya değiştirilmesi istenen veriler için kullanılır. Protected modifier, public modifier’dan daha güvenli bir access modifier’dır. Aynı sınıf içinde görüntülenebilir veya erişilebilirler. Aynı zamanda üst sınıflar, ondan türetilmiş sınıflar ve aynı paket içinde bulunan sınıflar tarafından görüntülenebilir veya erişebilirler. Private en güvenli access modifier’dır. Private olanlar yalnızca içinde olduğu sınıf tarafından görülebilir veya erişilebilirler. Sınıflar private olabileceği gibi özellikleri ve üstünde tuttuğu veriler de private olabilir.</p>"
   ]
  },
  {
   "cell_type": "markdown",
   "metadata": {},
   "source": [
    "<h5 style=\"color:red;\">ÖRNEK</h5>"
   ]
  },
  {
   "cell_type": "code",
   "execution_count": 27,
   "metadata": {},
   "outputs": [
    {
     "name": "stdout",
     "output_type": "stream",
     "text": [
      "300\n",
      "Kırmızı\n"
     ]
    }
   ],
   "source": [
    "class Araba:\n",
    "    def __init__(self, hiz, renk):\n",
    "        self.__hiz = hiz\n",
    "        self.__renk = renk\n",
    "\n",
    "    def set_hiz(self, degisken):\n",
    "        self.__hiz = degisken\n",
    "\n",
    "    def get_hiz(self):\n",
    "        return self.__hiz\n",
    "    \n",
    "    def set_renk(self, degisken):\n",
    "        self.__renk = degisken\n",
    "\n",
    "    def get_renk(self):\n",
    "        return self.__renk\n",
    "\n",
    "ford = Araba(200, 'Kırmızı')\n",
    "honda = Araba(250, 'Mavi')\n",
    "audi = Araba(300, 'Siyah')\n",
    "\n",
    "ford.set_hiz(300)\n",
    "print(ford.get_hiz())\n",
    "print(ford.get_renk())"
   ]
  },
  {
   "cell_type": "markdown",
   "metadata": {},
   "source": [
    "<P class=MsNormal style=\"text-align:justify\" align=\"left\">Burada araba sınıfımızı get ve set metodları sayesinde Encapsulation(sarma) işlemini yapmış olduk.</P>\n",
    "<P class=MsNormal style=\"text-align:justify\" align=\"left\">__degisken şeklindeki kullanım superprivate olarak adlandırılır ve get set metodları olmadan erişmek mümkün değildir.</P>\n",
    "<P class=MsNormal style=\"text-align:justify\" align=\"left\">_degisken ise semiprivate olarak adlandırılır.Sadece dahili kullanım içindir ve değişiklik gösterebilir.</P>"
   ]
  },
  {
   "cell_type": "markdown",
   "metadata": {},
   "source": [
    "<h4>Inheritance(Kalıtım)</h4>"
   ]
  },
  {
   "cell_type": "markdown",
   "metadata": {},
   "source": [
    "<P class=MsNormal style=\"text-align:justify\" align=\"left\">\n",
    "Bir sınıftan başka bir sınıf türetirken aralarında bir alt-üst ilişkisi oluşturmayı ve bu sınıflar üzerinde ortak metotlar ve özellikler kullanılmasını sağlayan bir mekanizmadır.  5 çeşit Inheritance çeşidinden söz edilebilir.\n",
    " <ul style=\"list-style-type:circle;\">\n",
    "  <li>Single Inheritance (Tekli Kalıtım): Alt sınıf tek bir üst sınıfın tüm özelliklerini taşır.</li>\n",
    "  <li>Multiple Inheritance (Çoklu Kalıtım): Bir alt sınıf birden fazla üst sınıfın tüm özelliklerini taşır.</li>\n",
    "  <li> Multilevel Inheritance (Çok Seviyeli Kalıtım): Bir sınıfın alt sınıfı oluşturulduktan sonra bu alt sınfın da bir alt sınıfının oluşturulmasına denir.</li>\n",
    "    <li>Hierarchical Inheritance (Hiyerarşik Kalıtım): Bir üst sınıfın birden fazla alt sınıfa base class (temel sınıf)'lik yapmasına denir.</li>\n",
    "    <li>Hybrid Inheritance (Melez Kalıtım): Öbür Inheritance türlerinin 2 veya daha fazlasını barındıran Inheritance türüdür. </li>\n",
    "    </ul> </P>"
   ]
  },
  {
   "cell_type": "markdown",
   "metadata": {},
   "source": [
    "<h4>Polymorphism(Çok Biçimlilik)</h4>"
   ]
  },
  {
   "cell_type": "markdown",
   "metadata": {},
   "source": [
    "<p class=MsNormal style=\"text-align:justify\" align=\"left\">Daha belirgin olmak gerekirse, metotları ve türetilmiş sınıfları yeniden tanımlama yeteneğidir. Örnek olarak şekil diye bir sınıf olsun; polymorphism sayesinde programcı farklı şekillerin alanlarını farklı metotlar ile belirleyebilir. Şeklin ne olduğu fark etmeksizin program kullanıcıya doğru alanı verecektir.</p>"
   ]
  },
  {
   "cell_type": "markdown",
   "metadata": {},
   "source": [
    "<h5 style=\"color:red;\">ÖRNEK</h5>"
   ]
  },
  {
   "cell_type": "code",
   "execution_count": 35,
   "metadata": {},
   "outputs": [],
   "source": [
    "class Araba:   #Ebeveyn(ana) Sınıf\n",
    "  def __init__(self, fiyat):\n",
    "    self.fiyat = fiyat\n",
    "    \n",
    "  def goruntuleFiyat(self):\n",
    "    print ('Fiyat = ₺',self.fiyat)\n",
    "\n",
    "  def bilgiVer(self):\n",
    "    print('Şu anda ana sınıftasınız.')\n",
    "class Marka(Araba):   #Çocuk(Kalıtım alan) Sınıf\n",
    "   def __init__(self, fiyat, marka):\n",
    "     Araba.__init__(self, fiyat)\n",
    "     self.marka = marka\n",
    "\n",
    "   def goruntuleMarka(self):\n",
    "     print ('Marka = ',self.marka)\n",
    "        \n",
    "   def bilgiVer(self):\n",
    "     print('Şu anda alt sınıftasınız.')\n"
   ]
  },
  {
   "cell_type": "markdown",
   "metadata": {},
   "source": [
    "<P class=MsNormal style=\"text-align:justify\" align=\"left\">Burada marka sınıfımız araba sınıfında kalıtım alarak araba sınıfının özelliklerinden faydalanmıştır.Aynı zamanda bilgiVer metodu override(ezdirilerek) yenilenmiştir.(polymorphism)</P>"
   ]
  },
  {
   "cell_type": "code",
   "execution_count": 36,
   "metadata": {},
   "outputs": [
    {
     "name": "stdout",
     "output_type": "stream",
     "text": [
      "Marka =  BMW\n",
      "Fiyat = ₺ 1200\n",
      "Şu anda alt sınıftasınız.\n"
     ]
    }
   ],
   "source": [
    "arac = Marka(1200, 'BMW')\n",
    "arac.goruntuleMarka()\n",
    "arac.goruntuleFiyat()\n",
    "arac.bilgiVer()"
   ]
  },
  {
   "cell_type": "markdown",
   "metadata": {},
   "source": [
    "*Birden çok sınıftan kalıtım alabilirsiniz."
   ]
  },
  {
   "cell_type": "markdown",
   "metadata": {},
   "source": [
    "<h4>Abstraction(Soyutlama)</h4>"
   ]
  },
  {
   "cell_type": "markdown",
   "metadata": {},
   "source": [
    "<P class=MsNormal style=\"text-align:justify\" align=\"left\">\n",
    "Alt sınıfların ortak özelliklerini ve işlevlerini taşıyan ancak henüz bir nesnesi olmayan bir üst sınıf oluşturmak istenirse bir soyut (abstract) üst sınıf oluşturulur. Soyut sınıfın yöntemleri alt sınıfları tarafından üzerine yazılmak üzere şablon olarak tanımlanabilir veya soyut metot olarak oluşturulabilir. Soyut metota sahip bir sınıf otomatik olarak kendisi de soyut hale gelir ve soyut sınıflardan nesne oluşturulmaz.\n",
    "</P>"
   ]
  },
  {
   "cell_type": "markdown",
   "metadata": {},
   "source": [
    "<h5 style=\"color:red;\">ÖRNEK</h5>"
   ]
  },
  {
   "cell_type": "code",
   "execution_count": 40,
   "metadata": {},
   "outputs": [
    {
     "name": "stdout",
     "output_type": "stream",
     "text": [
      "VW calisti.\n",
      "VW durdu.\n",
      "Toyota calisti.\n",
      "Toyota durdu.\n"
     ]
    }
   ],
   "source": [
    "class Araba: \n",
    "    def basla(self): \n",
    "        pass\n",
    "\n",
    "    def dur(self): \n",
    "        pass\n",
    "\n",
    "class VW(Car): \n",
    "  \n",
    "    def basla(self): \n",
    "        print(\"VW calisti.\") \n",
    "\n",
    "    def dur(self): \n",
    "        print(\"VW durdu.\") \n",
    "  \n",
    "class Toyota(Car): \n",
    "  \n",
    "    def basla(self): \n",
    "        print(\"Toyota calisti.\") \n",
    "  \n",
    "    def dur(self): \n",
    "        print(\"Toyota durdu.\")\n",
    "\n",
    "araba1 = VW() \n",
    "araba1.basla() \n",
    "araba1.dur() \n",
    "  \n",
    "araba2 = Toyota()\n",
    "araba2.basla()\n",
    "araba2.dur() "
   ]
  },
  {
   "cell_type": "markdown",
   "metadata": {},
   "source": [
    "Pythonda interfacelere ihtiyaç duyulmamaktadır."
   ]
  }
 ],
 "metadata": {
  "kernelspec": {
   "display_name": "Python 3",
   "language": "python",
   "name": "python3"
  },
  "language_info": {
   "codemirror_mode": {
    "name": "ipython",
    "version": 3
   },
   "file_extension": ".py",
   "mimetype": "text/x-python",
   "name": "python",
   "nbconvert_exporter": "python",
   "pygments_lexer": "ipython3",
   "version": "3.7.3"
  }
 },
 "nbformat": 4,
 "nbformat_minor": 4
}
