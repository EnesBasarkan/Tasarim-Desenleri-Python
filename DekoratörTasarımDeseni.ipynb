{
 "cells": [
  {
   "cell_type": "markdown",
   "metadata": {},
   "source": [
    "<h3>Dekoratör Tasarım Deseni(Decorator Design Pattern)</h3>"
   ]
  },
  {
   "cell_type": "markdown",
   "metadata": {},
   "source": [
    "Dekoratör, nesnelerin davranışlarını nesnelerinin içine yerleştirerek nesnelere yeni davranışlar eklemenizi sağlayan yapısal bir tasarım modelidir."
   ]
  },
  {
   "cell_type": "markdown",
   "metadata": {},
   "source": [
    "<img src=\"https://refactoring.guru/images/patterns/content/decorator/decorator.png\">"
   ]
  },
  {
   "cell_type": "markdown",
   "metadata": {},
   "source": [
    "<h5>Ne Zaman Kullanılır ?</h5>"
   ]
  },
  {
   "cell_type": "markdown",
   "metadata": {},
   "source": [
    "Var olan bir nesnenin sınıf yapısına müdahale etmeden, yeni bir değişken yada fonksiyon eklemek ve  çalışma zamanında dinamik bir nesne eklemek (ve kaldırmak) istiyorsak.\n"
   ]
  },
  {
   "cell_type": "markdown",
   "metadata": {},
   "source": [
    "<h5>Nasıl Kullanılır ?</h5>"
   ]
  },
  {
   "cell_type": "markdown",
   "metadata": {},
   "source": [
    "Sınıflarımızı genişletmeye açık değiştirmeye kapalı hale getirmemiz gerekmektedir. A sınıfının mirasını kullanarak genişletmek yerine A sınıfı B sınıfını genişletir diğer sınıfın etrafına “sarılmış” yeni bir sınıf oluşturmuş oluruz."
   ]
  },
  {
   "cell_type": "markdown",
   "metadata": {},
   "source": [
    "<h5>Örnek için UML Diyagramı</h5>\n",
    "<img src=\"./Görüntüler/decoratoruml.png\">"
   ]
  },
  {
   "cell_type": "code",
   "execution_count": 18,
   "metadata": {},
   "outputs": [
    {
     "name": "stdout",
     "output_type": "stream",
     "text": [
      "Espresso $1.99\n",
      "Dark Roast Coffee, Mocha, Mocha, Whip $1.49\n",
      "House Blend Coffee, Soy, Mocha, Whip $1.34\n",
      "Turkish Coffe, Soy $5.15\n"
     ]
    }
   ],
   "source": [
    "from abc import ABCMeta, abstractmethod\n",
    "\n",
    "class Beverage:\n",
    "    __metaclass__ = ABCMeta\n",
    "\n",
    "    def __init__(self):\n",
    "        self._description = \"Unknown Beverage\"\n",
    "\n",
    "    def get_description(self):\n",
    "        return self._description\n",
    "\n",
    "    @abstractmethod\n",
    "    def cost(self):\n",
    "        raise NotImplementedError\n",
    "        \n",
    "\n",
    "class HouseBlend(Beverage):\n",
    "\n",
    "    def __init__(self):\n",
    "        self._description = \"House Blend Coffee\"\n",
    "\n",
    "    def cost(self):\n",
    "        return .89\n",
    "\n",
    "class TurkishCoffe(Beverage):\n",
    "\n",
    "    def __init__(self):\n",
    "        self._description = \"Turkish Coffe\"\n",
    "    \n",
    "    def cost(self):\n",
    "        return 5.0\n",
    "\n",
    "    \n",
    "class DarkRoast(Beverage):\n",
    "\n",
    "    def __init__(self):\n",
    "        self._description = \"Dark Roast Coffee\"\n",
    "\n",
    "    def cost(self):\n",
    "        return .99\n",
    "\n",
    "class Espresso(Beverage):\n",
    "\n",
    "    def __init__(self):\n",
    "        self._description = \"Espresso\"\n",
    "\n",
    "    def cost(self):\n",
    "        return 1.99\n",
    "\n",
    "class Decaf(Beverage):\n",
    "\n",
    "    def __init__(self):\n",
    "        self._description = \"Decaf Coffee\"\n",
    "\n",
    "    def cost(self):\n",
    "        return 1.05\n",
    "\n",
    "class CondimentDecorator(Beverage):\n",
    "    __metaclass__ = ABCMeta\n",
    "\n",
    "    @abstractmethod\n",
    "    def get_description(self):\n",
    "        raise NotImplementedError\n",
    "        \n",
    "\n",
    "class Milk(CondimentDecorator):\n",
    "\n",
    "    def __init__(self, beverage):\n",
    "        self._beverage = beverage\n",
    "\n",
    "    def get_description(self):\n",
    "        return self._beverage.get_description() + \", Milk\"\n",
    "\n",
    "    def cost(self):\n",
    "        return .10 + self._beverage.cost()\n",
    "\n",
    "class Mocha(CondimentDecorator):\n",
    "\n",
    "    def __init__(self, beverage):\n",
    "        self._beverage = beverage\n",
    "\n",
    "    def get_description(self):\n",
    "        return self._beverage.get_description() + \", Mocha\"\n",
    "\n",
    "    def cost(self):\n",
    "        return .20 + self._beverage.cost()\n",
    "\n",
    "class Soy(CondimentDecorator):\n",
    "\n",
    "    def __init__(self, beverage):\n",
    "        self._beverage = beverage\n",
    "\n",
    "    def get_description(self):\n",
    "        return self._beverage.get_description() + \", Soy\"\n",
    "\n",
    "    def cost(self):\n",
    "        return .15 + self._beverage.cost()\n",
    "\n",
    "class Whip(CondimentDecorator):\n",
    "\n",
    "    def __init__(self, beverage):\n",
    "        self._beverage = beverage\n",
    "\n",
    "    def get_description(self):\n",
    "        return self._beverage.get_description() + \", Whip\"\n",
    "\n",
    "    def cost(self):\n",
    "        return .10 + self._beverage.cost()\n",
    "\n",
    "if __name__ == '__main__':\n",
    "    beverage = Espresso()\n",
    "    print(beverage.get_description() + \" $\" + str(beverage.cost()))\n",
    "\n",
    "    beverage2 = DarkRoast()\n",
    "    beverage2 = Mocha(beverage2)\n",
    "    beverage2 = Mocha(beverage2)\n",
    "    beverage2 = Whip(beverage2)\n",
    "    print(beverage2.get_description() + \" $\" + str(beverage2.cost()))\n",
    "\n",
    "    beverage3 = HouseBlend()\n",
    "    beverage3 = Soy(beverage3)\n",
    "    beverage3 = Mocha(beverage3)\n",
    "    beverage3 = Whip(beverage3)\n",
    "    print(beverage3.get_description() + \" $\" + str(beverage3.cost()))\n",
    "    \n",
    "    beverage4 = TurkishCoffe()\n",
    "    beverage4 = Soy(beverage4)\n",
    "    print(beverage4.get_description() + \" $\" + str(beverage4.cost()))\n"
   ]
  },
  {
   "cell_type": "markdown",
   "metadata": {},
   "source": [
    "<H3>MUHAMMED ENES BAŞARKAN - 200017116</H3>"
   ]
  },
  {
   "cell_type": "code",
   "execution_count": null,
   "metadata": {},
   "outputs": [],
   "source": []
  }
 ],
 "metadata": {
  "kernelspec": {
   "display_name": "Python 3",
   "language": "python",
   "name": "python3"
  },
  "language_info": {
   "codemirror_mode": {
    "name": "ipython",
    "version": 3
   },
   "file_extension": ".py",
   "mimetype": "text/x-python",
   "name": "python",
   "nbconvert_exporter": "python",
   "pygments_lexer": "ipython3",
   "version": "3.7.3"
  }
 },
 "nbformat": 4,
 "nbformat_minor": 4
}
