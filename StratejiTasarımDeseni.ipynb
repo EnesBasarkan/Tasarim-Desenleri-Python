{
 "cells": [
  {
   "cell_type": "markdown",
   "metadata": {},
   "source": [
    "<h1>TASARIM DESENLERİ (DESİGN PATTERN)</h1>"
   ]
  },
  {
   "cell_type": "markdown",
   "metadata": {},
   "source": [
    "<p style='text-align: justify;'> \n",
    "Tasarım modelleri , yazılım tasarımında sık karşılaşılan sorunlar için üretilmiş tipik çözümlerdir. Kodunuzda tekrar eden bir tasarım sorununu çözmek için özelleştirebileceğiniz önceden hazırlanmış planlardır.</p>\n",
    "<p style='text-align: justify;'> \n",
    "Hazır bir işlev veya kitaplıklarla bir desen bulamaz ve programınıza kopyalayamazsınız. Desen belirli bir kod parçası değil, belirli bir problemi çözmek için genel bir kavramdır. Desen ayrıntılarını takip edebilir ve kendi programınızın gerçeklerine uygun bir çözüm uygulayabilirsiniz.</p>\n",
    "<p style='text-align: justify;'> \n",
    "Desenler genellikle algoritmalarla karıştırılır, çünkü her iki kavram da bilinen bazı sorunlara tipik çözümleri tanımlar. Bir algoritma her zaman bir hedefe ulaşabilecek net bir dizi eylem tanımlarken, bir model bir çözümün daha üst düzey bir tanımıdır. İki farklı programa uygulanan aynı modelin kodu farklı olabilir.\n",
    "</p>"
   ]
  },
  {
   "cell_type": "markdown",
   "metadata": {},
   "source": [
    "<h3>Strateji Deseni (Strategy Pattern)</h3>"
   ]
  },
  {
   "cell_type": "markdown",
   "metadata": {},
   "source": [
    "<P style='text-align: justify;'> \n",
    "Strateji , bir algoritma ailesi tanımlamanızı, her birini ayrı bir sınıfa koymanızı ve nesnelerini birbirinin yerine getirmenizi sağlayan davranışsal bir tasarım modelidir.\n",
    "</P>\n",
    "<P style='text-align: justify;'> \n",
    "Davranışsal (Behavioral) tasarım desenlerinden biridir. Bir dizi algoritma tanımlar, bu algoritmaların erişimi için arayüz(interface) sağlar ve algoritmaları tanımlarken birbirlerinin yerine kullanılabilir özellikte tasarlar. Ayrıca client <b>runtime zamanında</b> dilediği algoritmayı seçebilir.\n",
    "</P>"
   ]
  },
  {
   "cell_type": "markdown",
   "metadata": {},
   "source": [
    "<h5>Ne Zaman Kullanılır ?</h5>\n",
    "Belirli bir iş için birden çok algoritmaya(yönteme) sahip olduğumuzda kullanılır."
   ]
  },
  {
   "cell_type": "markdown",
   "metadata": {},
   "source": [
    "<h5>Nasıl Kullanılır?</h5>\n",
    "<P style='text-align: justify;'> \n",
    "Öncelikle bir algoritma interface'i oluşturulur .Daha sonra oluşturulan interface'i implement edecek algoritma sınıfları yaratılır. Context sınıfı yaratılır. Bu sınıf içerisinde algoritma interface türünden algoritmaların set edilmesi için bir metod bulunur. Bu metod sayesinde Context sınıfı algoritma nesnesini tutmuş olur. Son olarak bir Client sınıfı oluşturulur. Bu sınıf Context sınıfından ve algoritma sınıflardan nesneler üreterek işlemlerin yapılmasını sağlar</P>"
   ]
  },
  {
   "cell_type": "markdown",
   "metadata": {},
   "source": [
    "<h5>Örnek için UML diyagramı</h5>\n",
    "<img src=\"./Görüntüler/strateji.png\">"
   ]
  },
  {
   "cell_type": "code",
   "execution_count": 1,
   "metadata": {},
   "outputs": [],
   "source": [
    "from abc import ABCMeta, abstractmethod\n",
    "\n",
    "class Duck:\n",
    "    __metaclass__ = ABCMeta\n",
    "    fly_behavior = None\n",
    "    quack_behavior = None\n",
    "\n",
    "    @abstractmethod\n",
    "    def display(self):\n",
    "        pass\n",
    "\n",
    "    def fly(self):\n",
    "        return self.fly_behavior.fly()\n",
    "\n",
    "    def quack(self):\n",
    "        return  self.quack_behavior.quack()\n",
    "\n",
    "    def set_quack_behavior(self, quack_behavior):\n",
    "        self.quack_behavior = quack_behavior\n",
    "\n",
    "    def set_fly_behavior(self, fly_behavior):\n",
    "        self.fly_behavior = fly_behavior\n",
    "\n",
    "    def swim(self):\n",
    "        return \"All ducks float, even decoys!!\"\n",
    "\n",
    "class MallardDuck(Duck):\n",
    "\n",
    "    def __init__(self):\n",
    "        self.fly_behavior = FlyWithWings()\n",
    "        self.quack_behavior = Quack()\n",
    "\n",
    "    def display(self):\n",
    "        return \"I'm a real Mallard duck\"\n",
    "\n",
    "class DecoyDuck(Duck):\n",
    "\n",
    "    def __init__(self):\n",
    "        self.fly_behavior = FlyNoWay()\n",
    "        self.quack_behavior = MuteQuack()\n",
    "\n",
    "    def display(self):\n",
    "        return \"I'm a duck Decoy\"\n",
    "\n",
    "class RubberDuck(Duck):\n",
    "\n",
    "    def __init__(self):\n",
    "        self.fly_behavior = FlyNoWay()\n",
    "        self.quack_behavior = Squeak()\n",
    "\n",
    "    def display(self):\n",
    "        return \"I'm a rubber duckie\"\n",
    "\n",
    "class RedHeadDuck(Duck):\n",
    "\n",
    "    def __init__(self):\n",
    "        self.fly_behavior = FlyWithWings()\n",
    "        self.quack_behavior = Quack()\n",
    "\n",
    "    def display(self):\n",
    "        return \"I'm a real Red Headed duck\"\n",
    "\n",
    "class ModelDuck(Duck):\n",
    "\n",
    "    def __init__(self):\n",
    "        self.fly_behavior = FlyNoWay()\n",
    "        self.quack_behavior = Quack()\n",
    "\n",
    "    def display(self):\n",
    "        return \"I'm a model duck\"\n",
    "\n",
    "class QuackBehavior:\n",
    "    __metaclass__ = ABCMeta\n",
    "\n",
    "    @abstractmethod\n",
    "    def quack(self):\n",
    "        pass\n",
    "\n",
    "class Quack(QuackBehavior):\n",
    "    def quack(self):\n",
    "        return \"Quack\"\n",
    "\n",
    "class MuteQuack(QuackBehavior):\n",
    "    def quack(self):\n",
    "        return \"<< Silence >>\"\n",
    "\n",
    "class Squeak(QuackBehavior):\n",
    "    def quack(self):\n",
    "        return \"Squeak\"\n",
    "\n",
    "class FakeQuack(QuackBehavior):\n",
    "    def quack(self):\n",
    "        return \"Qwak\"\n",
    "\n",
    "class FlyBehavior():\n",
    "    __metaclass__ = ABCMeta\n",
    "\n",
    "    @abstractmethod\n",
    "    def fly(self):\n",
    "        pass\n",
    "\n",
    "class FlyWithWings(FlyBehavior):\n",
    "    def fly(self):\n",
    "        return \"I'm flying!!\"\n",
    "\n",
    "class FlyNoWay(FlyBehavior):\n",
    "    def fly(self):\n",
    "        return \"I can't fly\"\n",
    "\n",
    "class FlyRocketPowered(FlyBehavior):\n",
    "    def fly(self):\n",
    "        return \"I'm flying with a rocket!\""
   ]
  },
  {
   "cell_type": "markdown",
   "metadata": {},
   "source": [
    "<H3>MUHAMMED ENES BAŞARKAN</H3>"
   ]
  }
 ],
 "metadata": {
  "kernelspec": {
   "display_name": "Python 3",
   "language": "python",
   "name": "python3"
  },
  "language_info": {
   "codemirror_mode": {
    "name": "ipython",
    "version": 3
   },
   "file_extension": ".py",
   "mimetype": "text/x-python",
   "name": "python",
   "nbconvert_exporter": "python",
   "pygments_lexer": "ipython3",
   "version": "3.7.3"
  }
 },
 "nbformat": 4,
 "nbformat_minor": 4
}
